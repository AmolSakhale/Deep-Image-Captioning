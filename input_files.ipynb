{
 "cells": [
  {
   "cell_type": "code",
   "execution_count": null,
   "metadata": {},
   "outputs": [],
   "source": [
    "from utils import create_input_files\n",
    "\n",
    "#give the correct path to the directories where data is to be generated and stored\n",
    "create_input_files(dataset='coco',\n",
    "                   karpathy_json_path='/datasets/home/home-02/57/257/asakhale/ICProject/dataset_coco.json',\n",
    "                   image_folder='/datasets/COCO-2015',\n",
    "                   captions_per_image=5,\n",
    "                   min_word_freq=5,\n",
    "                   output_folder='/datasets/home/home-02/57/257/asakhale/ICProject/data_generated',\n",
    "                   max_len=50)"
   ]
  }
 ],
 "metadata": {
  "kernelspec": {
   "display_name": "Python 3",
   "language": "python",
   "name": "python3"
  },
  "language_info": {
   "codemirror_mode": {
    "name": "ipython",
    "version": 3
   },
   "file_extension": ".py",
   "mimetype": "text/x-python",
   "name": "python",
   "nbconvert_exporter": "python",
   "pygments_lexer": "ipython3",
   "version": "3.7.3"
  }
 },
 "nbformat": 4,
 "nbformat_minor": 2
}
